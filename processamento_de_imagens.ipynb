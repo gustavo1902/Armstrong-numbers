{
  "nbformat": 4,
  "nbformat_minor": 0,
  "metadata": {
    "colab": {
      "provenance": [],
      "collapsed_sections": [],
      "mount_file_id": "1IpYKn0NFL1vAAU8ocVndrumQOvO5HwBx",
      "authorship_tag": "ABX9TyNvCqucpWVfN56XbkQybyFv",
      "include_colab_link": true
    },
    "kernelspec": {
      "name": "python3",
      "display_name": "Python 3"
    },
    "language_info": {
      "name": "python"
    }
  },
  "cells": [
    {
      "cell_type": "markdown",
      "metadata": {
        "id": "view-in-github",
        "colab_type": "text"
      },
      "source": [
        "<a href=\"https://colab.research.google.com/github/gustavo1902/Armstrong-numbers/blob/main/processamento_de_imagens.ipynb\" target=\"_parent\"><img src=\"https://colab.research.google.com/assets/colab-badge.svg\" alt=\"Open In Colab\"/></a>"
      ]
    },
    {
      "cell_type": "code",
      "execution_count": null,
      "metadata": {
        "id": "V080lSCmGsrw"
      },
      "outputs": [],
      "source": [
        "from IPython.core.display import Image\n",
        "import cv2 as cv\n",
        "import matplotlib.pyplot as plt\n",
        "import matplotlib.image as img\n",
        "\n",
        "import numpy as np\n",
        "\n",
        "#leitura de imagem PGM-ASCII\n",
        "def readdpgm (name):\n",
        "  f = open(name, \"r\")\n",
        "\n",
        "  assert f.readline() == 'P2/n'\n",
        "  line = f.readline()\n",
        "  while (line[0] == '#'):\n",
        "    line = f.readline()\n",
        "  (width, height) = [int(i) for i in line.split()]\n",
        "  print (width, height)\n",
        "  depth = int(f.readline())\n",
        "  assert depth <= 255\n",
        "  print(depth)\n",
        "\n",
        "  img = []\n",
        "  row = []\n",
        "  j = 0\n",
        "  for line in f:\n",
        "    values = line.split()\n",
        "    for val in values:\n",
        "      row.append (int (val))\n",
        "      j = j + 1\n",
        "      if j >= width:\n",
        "        img.append (row)\n",
        "        j=0\n",
        "        row = []\n",
        "        f.close()\n",
        "        return img\n",
        "\n"
      ]
    },
    {
      "cell_type": "code",
      "source": [
        "from IPython.core.display import Image\n",
        "import cv2 as cv\n",
        "import matplotlib.pyplot as plt\n",
        "import matplotlib.image as img\n",
        "\n",
        "import numpy as np\n",
        "#alocação da matriz imagem\n",
        "\n",
        "def imgalloc (nl, nc):\n",
        "    img = []\n",
        "    for i in range(nl):\n",
        "        lin = []\n",
        "        for j in range(nc):\n",
        "            lin.append(0)\n",
        "        img.append(lin)\n",
        "    return img    \n"
      ],
      "metadata": {
        "id": "Zq5Ya05tM9s8"
      },
      "execution_count": null,
      "outputs": []
    },
    {
      "cell_type": "code",
      "source": [
        "#leitura de imagem\n",
        "\n",
        "img = readdpgm('index.pgm')"
      ],
      "metadata": {
        "id": "uMY_pHJ_ZFEM"
      },
      "execution_count": null,
      "outputs": []
    },
    {
      "cell_type": "code",
      "source": [
        "#matriz da imagem\n",
        "print(np.asarray (img))\n"
      ],
      "metadata": {
        "id": "5Q9CB2XqZRak"
      },
      "execution_count": null,
      "outputs": []
    },
    {
      "cell_type": "code",
      "source": [
        "#calculo do negativo da imagem\n",
        "\n",
        "nl = len(img)\n",
        "nc = len(img[0])\n",
        "imgS = imgalloc (nl, nc)\n",
        "for i in range(nl):\n",
        "    fir j in range(nc):\n",
        "    imgS[i] [j] = 255 - img[i] [j]\n",
        "\n",
        "#apresentação da imagem negativo\n",
        "\n",
        "plt.imshow(imgS, cmap='gray')\n",
        "plt.show()\n",
        "\n"
      ],
      "metadata": {
        "id": "Ca5RRSS3ZmRQ"
      },
      "execution_count": null,
      "outputs": []
    },
    {
      "cell_type": "code",
      "source": [
        "#apresentar imagem\n",
        "\n",
        "plt.imshow(img, cmap='gray')\n",
        "plt.show()"
      ],
      "metadata": {
        "id": "oDm_SbEpcFNw"
      },
      "execution_count": null,
      "outputs": []
    },
    {
      "cell_type": "code",
      "source": [
        "#Calculo mais simples da imagem negativo\n",
        "\n",
        "imgT = np.asarray(img)\n",
        "imgT = 255- imgT\n",
        "plt.imshow(imgT, cmap = 'gray')\n",
        "plt.show()"
      ],
      "metadata": {
        "id": "CVdjTUDvateq"
      },
      "execution_count": null,
      "outputs": []
    },
    {
      "cell_type": "code",
      "source": [
        "#trabalhando com pil\n",
        "\n",
        "import PIL\n",
        "from PIL import Image\n",
        "image = Image.open(\"xxxx.pgn\")\n",
        "print(image.format)\n",
        "print(image.mode)\n",
        "print(image.size)\n",
        "image "
      ],
      "metadata": {
        "id": "ryaQ9CQRbA97"
      },
      "execution_count": null,
      "outputs": []
    },
    {
      "cell_type": "code",
      "source": [
        "#convertendo imagens para arrays numpy\n",
        "\n",
        "data = img.imread(\"xxx.pgn\")"
      ],
      "metadata": {
        "id": "IpJ_kfzvbbzM"
      },
      "execution_count": null,
      "outputs": []
    },
    {
      "cell_type": "code",
      "source": [
        "print(data.dtype)\n",
        "print(data.shape)\n",
        "print(data.max())\n",
        "print(data.min())\n",
        "print(data)\n",
        "plt.imshow(data)\n"
      ],
      "metadata": {
        "id": "aOjHVnLAboZw"
      },
      "execution_count": null,
      "outputs": []
    },
    {
      "cell_type": "code",
      "source": [
        "# importando os pacotes necessários\n",
        "import cv2\n",
        "import numpy as np\n",
        "from google.colab.patches import cv2_imshow\n",
        "import matplotlib.pyplot as plt\n",
        "\n",
        "# importar imagens\n",
        "img0 = cv2.imread(\"/content/carlos_0.png\")\n",
        "img1 = cv2.imread(\"/content/carlos_1.png\")\n",
        "\n",
        "# visualizando a imagem\n",
        "cv2_imshow(img0)\n",
        "\n",
        "# utilizando o ones do numpy para criar o filtro\n",
        "filtro_1 = np.ones(img0.shape, dtype=np.uint8) * 110\n",
        "\n",
        "# aplicando o filtro à imagem\n",
        "somada = cv2.add(img0, filtro_1)\n",
        "\n",
        "# mostrando a imagem com filtro\n",
        "cv2_imshow(somada)"
      ],
      "metadata": {
        "id": "2FBiRQpHLsha"
      },
      "execution_count": null,
      "outputs": []
    },
    {
      "cell_type": "code",
      "source": [
        "# criando filtro\n",
        "filtro_2 = np.ones(img0.shape, dtype=np.uint8) * 110\n",
        "\n",
        "# aplicando filtro\n",
        "subtraida = cv2.subtract(img0, filtro_1)\n",
        "\n",
        "# imagem com filtro\n",
        "cv2_imshow(subtraida)\n"
      ],
      "metadata": {
        "id": "u7bYpk4IL4t-"
      },
      "execution_count": null,
      "outputs": []
    },
    {
      "cell_type": "code",
      "source": [
        "# criando o kernel\n",
        "kernel_blur = np.ones((3,3), np.float32) / 9\n",
        "\n",
        "# aplicando o filtro\n",
        "blurred = cv2.filter2D(img0, -1, kernel_blur)\n",
        "\n",
        "# mostrando a imagem com filtro\n",
        "cv2_imshow(blurred)"
      ],
      "metadata": {
        "id": "hOLdAK3GL-Hq"
      },
      "execution_count": null,
      "outputs": []
    },
    {
      "cell_type": "code",
      "source": [
        "# criando o kernel\n",
        "kernel_blur = np.ones((9,9), np.float32) / 81\n",
        "\n",
        "# aplicando o filtro\n",
        "blurred = cv2.filter2D(img0, -1, kernel_blur)\n",
        "\n",
        "# verificando o resultado\n",
        "cv2_imshow(blurred)"
      ],
      "metadata": {
        "id": "hMoeynncMAQv"
      },
      "execution_count": null,
      "outputs": []
    },
    {
      "cell_type": "code",
      "source": [
        "# utilizando o GaussianBlur, que já é implementado no OpenCV\n",
        "gaussian_blurred = cv2.GaussianBlur(img0, (5,5), 0)\n",
        "\n",
        "# visualizando a imagem\n",
        "cv2_imshow(gaussian_blurred)"
      ],
      "metadata": {
        "id": "XMj52cryMHsM"
      },
      "execution_count": null,
      "outputs": []
    },
    {
      "cell_type": "code",
      "source": [
        "# implementando o filtro\n",
        "kernel_motion_blur = np.zeros((15, 15))\n",
        "kernel_motion_blur[7, :] = np.ones(15)\n",
        "kernel_motion_blur = kernel_motion_blur / 15\n",
        "\n",
        "# aplicando o filtro\n",
        "motion_blurred = cv2.filter2D(img0, -1, kernel_motion_blur)\n",
        "\n",
        "# plotando a imagem\n",
        "cv2_imshow(motion_blurred)"
      ],
      "metadata": {
        "id": "WWIVlIOuMJX5"
      },
      "execution_count": null,
      "outputs": []
    },
    {
      "cell_type": "code",
      "source": [
        "# criando o filtro de sharpening\n",
        "kernel_sharpening_1 = np.array([[-1,-1,-1],\n",
        "                                [-1,9,-1],\n",
        "                                [-1,-1,-1]])\n",
        "\n",
        "# implementando o filtro \n",
        "sharpened = cv2.filter2D(img1, -1, kernel_sharpening_1)\n",
        "\n",
        "# mostrando a imagem\n",
        "cv2_imshow(sharpened)"
      ],
      "metadata": {
        "id": "VHW2gV2rMMqN"
      },
      "execution_count": null,
      "outputs": []
    },
    {
      "cell_type": "code",
      "source": [
        "# implementando Canny Edges\n",
        "edges = cv2.Canny(img1, 50, 240)\n",
        "\n",
        "# mostrando a imagem\n",
        "cv2_imshow(edges)"
      ],
      "metadata": {
        "id": "N6GsNeNlMOqp"
      },
      "execution_count": null,
      "outputs": []
    },
    {
      "cell_type": "code",
      "source": [
        "# aplicando o filtro\n",
        "laplacian = cv2.Laplacian(img0, cv2.CV_64F)\n",
        "\n",
        "# dupla derivação em ambas direções\n",
        "cv2_imshow(laplacian)"
      ],
      "metadata": {
        "id": "Cm9T4qzXMRIV"
      },
      "execution_count": null,
      "outputs": []
    },
    {
      "cell_type": "code",
      "source": [
        "# criando um filtro sépia \n",
        "\n",
        "(b,g,r)=cv2.split(img1)\n",
        "r_new = r*0.393 + g*0.769 + b*0.189\n",
        "g_new = r*0.349 + g*0.686 + b*0.168\n",
        "b_new = r*0.272 + g*0.534 + b*0.131\n",
        "sepia = cv2.merge([b_new, g_new, r_new])\n",
        "cv2_imshow(sepia)"
      ],
      "metadata": {
        "id": "Lv25lc-8MSRH"
      },
      "execution_count": null,
      "outputs": []
    },
    {
      "cell_type": "code",
      "source": [
        "# função fourrier\n",
        "\n",
        "import numpy as np\n",
        "import matplotlib.pyplot as plt\n",
        "from skimage.io import imread, imshow\n",
        "from skimage.color import rgb2hsv, rgb2gray, rgb2yuv\n",
        "from skimage import color, exposure, transform\n",
        "from skimage.exposure import equalize_hist\n",
        "\n",
        "dark_image = imread('against_the_light.png')\n",
        "dark_image_grey = rgb2gray(dark_image)\n",
        "plt.figure(num=None, figsize=(8, 6), dpi=80)\n",
        "plt.imshow(dark_image_grey, cmap='gray');\n",
        "\n",
        "#e1\n",
        "dark_image_grey_fourier = np.fft.fftshift(np.fft.fft2(dark_image_grey))\n",
        "plt.figure(num=None, figsize=(8, 6), dpi=80)\n",
        "plt.imshow(np.log(abs(dark_image_grey_fourier)), cmap='gray');\n",
        "\n",
        "#ex2\n",
        "def fourier_masker_ver(image, i):\n",
        "    f_size = 15\n",
        "    dark_image_grey_fourier =\n",
        "    np.fft.fftshift(np.fft.fft2(rgb2gray(image)))    dark_image_grey_fourier[:225, 235:240] = i\n",
        "    dark_image_grey_fourier[-225:,235:240] = i    fig, ax = plt.subplots(1,3,figsize=(15,15))\n",
        "    ax[0].imshow(np.log(abs(dark_image_grey_fourier)), cmap='gray')\n",
        "    ax[0].set_title('Masked Fourier', fontsize = f_size)\n",
        "    ax[1].imshow(rgb2gray(image), cmap = 'gray')\n",
        "    ax[1].set_title('Greyscale Image', fontsize = f_size);\n",
        "    ax[2].imshow(abs(np.fft.ifft2(dark_image_grey_fourier)), \n",
        "                     cmap='gray')\n",
        "    ax[2].set_title('Transformed Greyscale Image', \n",
        "                     fontsize = f_size);\n",
        "    \n",
        "fourier_masker(dark_image, 1)\n",
        "\n",
        "#ex3\n",
        "def fourier_masker_hor(image, i):\n",
        "    f_size = 15\n",
        "    dark_image_grey_fourier =\n",
        "    np.fft.fftshift(np.fft.fft2(rgb2gray(image)))    dark_image_grey_fourier[235:240, :230] = i\n",
        "    dark_image_grey_fourier[235:240,-230:] = i    fig, ax = plt.subplots(1,3,figsize=(15,15))\n",
        "    ax[0].imshow(np.log(abs(dark_image_grey_fourier)), cmap='gray')\n",
        "    ax[0].set_title('Masked Fourier', fontsize = f_size)\n",
        "    ax[1].imshow(rgb2gray(image), cmap = 'gray')\n",
        "    ax[1].set_title('Greyscale Image', fontsize = f_size);\n",
        "    ax[2].imshow(abs(np.fft.ifft2(dark_image_grey_fourier)), \n",
        "                     cmap='gray')\n",
        "    ax[2].set_title('Transformed Greyscale Image', \n",
        "                     fontsize = f_size);\n",
        "fourier_masker_hor(dark_image, 1)\n",
        "\n",
        "#ex4\n",
        "def fourier_iterator(image, value_list):\n",
        "    for i in value_list:\n",
        "        fourier_masker_ver(image, i)\n",
        " \n",
        "fourier_iterator(dark_image, [0.001, 1, 100])\n",
        "\n",
        "#ex5\n",
        "def fourier_transform_rgb(image):\n",
        "    f_size = 25\n",
        "    transformed_channels = []\n",
        "    for i in range(3):\n",
        "        rgb_fft = np.fft.fftshift(np.fft.fft2((image[:, :, i])))\n",
        "        rgb_fft[:225, 235:237] = 1\n",
        "        rgb_fft[-225:,235:237] = 1\n",
        "        transformed_channels.append(abs(np.fft.ifft2(rgb_fft)))\n",
        "    \n",
        "    final_image = np.dstack([transformed_channels[0].astype(int), \n",
        "                             transformed_channels[1].astype(int), \n",
        "                             transformed_channels[2].astype(int)])\n",
        "    \n",
        "    fig, ax = plt.subplots(1, 2, figsize=(17,12))\n",
        "    ax[0].imshow(image)\n",
        "    ax[0].set_title('Original Image', fontsize = f_size)\n",
        "    ax[0].set_axis_off()\n",
        "    \n",
        "    ax[1].imshow(final_image)\n",
        "    ax[1].set_title('Transformed Image', fontsize = f_size)\n",
        "    ax[1].set_axis_off()\n",
        "    \n",
        "    fig.tight_layout()\n",
        "\n",
        "#ex6\n",
        "\n"
      ],
      "metadata": {
        "id": "pB9Cp61byJ7D"
      },
      "execution_count": null,
      "outputs": []
    },
    {
      "cell_type": "code",
      "source": [
        "#funções básicas\n",
        "\n",
        "#pylint:disable=no-member\n",
        "\n",
        "import cv2 as cv\n",
        "\n",
        "# Read in an image\n",
        "img = cv.imread('../Resources/Photos/park.jpg')\n",
        "cv.imshow('Park', img)\n",
        "\n",
        "# Converting to grayscale\n",
        "gray = cv.cvtColor(img, cv.COLOR_BGR2GRAY)\n",
        "cv.imshow('Gray', gray)\n",
        "\n",
        "# Blur \n",
        "blur = cv.GaussianBlur(img, (7,7), cv.BORDER_DEFAULT)\n",
        "cv.imshow('Blur', blur)\n",
        "\n",
        "# Edge Cascade\n",
        "canny = cv.Canny(blur, 125, 175)\n",
        "cv.imshow('Canny Edges', canny)\n",
        "\n",
        "# Dilating the image\n",
        "dilated = cv.dilate(canny, (7,7), iterations=3)\n",
        "cv.imshow('Dilated', dilated)\n",
        "\n",
        "# Eroding\n",
        "eroded = cv.erode(dilated, (7,7), iterations=3)\n",
        "cv.imshow('Eroded', eroded)\n",
        "\n",
        "# Redimensionar\n",
        "resized = cv.resize(img, (500,500), interpolation=cv.INTER_CUBIC)\n",
        "cv.imshow('Resized', resized)\n",
        "\n",
        "# cortar\n",
        "cropped = img[50:200, 200:400]\n",
        "cv.imshow('Cropped', cropped)"
      ],
      "metadata": {
        "id": "q7JQaQCuGZrn"
      },
      "execution_count": null,
      "outputs": []
    }
  ]
}